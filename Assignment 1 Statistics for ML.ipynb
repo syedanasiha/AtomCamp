{
 "cells": [
  {
   "cell_type": "markdown",
   "id": "8d86b85e",
   "metadata": {},
   "source": [
    "## Import Libraries"
   ]
  },
  {
   "cell_type": "code",
   "execution_count": null,
   "id": "2ac5d182",
   "metadata": {},
   "outputs": [],
   "source": []
  },
  {
   "cell_type": "markdown",
   "id": "04d55c57",
   "metadata": {},
   "source": [
    "### Read Car_Sales.csv Data"
   ]
  },
  {
   "cell_type": "code",
   "execution_count": null,
   "id": "ef93cc5f",
   "metadata": {},
   "outputs": [],
   "source": []
  },
  {
   "cell_type": "markdown",
   "id": "09efe495",
   "metadata": {},
   "source": [
    "### Shape of Data"
   ]
  },
  {
   "cell_type": "code",
   "execution_count": null,
   "id": "e757ebd3",
   "metadata": {},
   "outputs": [],
   "source": []
  },
  {
   "cell_type": "markdown",
   "id": "3d7602a8",
   "metadata": {},
   "source": [
    "### Let's Explore the data"
   ]
  },
  {
   "cell_type": "code",
   "execution_count": null,
   "id": "5f9fb147",
   "metadata": {},
   "outputs": [],
   "source": []
  },
  {
   "cell_type": "markdown",
   "id": "2080cf19",
   "metadata": {},
   "source": [
    "### Basic information about the dataset and data types"
   ]
  },
  {
   "cell_type": "code",
   "execution_count": null,
   "id": "2725a7d5",
   "metadata": {},
   "outputs": [],
   "source": []
  },
  {
   "cell_type": "markdown",
   "id": "7f7b9726",
   "metadata": {},
   "source": [
    "Prior to summary statistics, identify missing values or duplicates and drop them."
   ]
  },
  {
   "cell_type": "markdown",
   "id": "00afb5ab",
   "metadata": {},
   "source": [
    "### Missing values"
   ]
  },
  {
   "cell_type": "code",
   "execution_count": null,
   "id": "a83db273",
   "metadata": {},
   "outputs": [],
   "source": []
  },
  {
   "cell_type": "markdown",
   "id": "01c6f8ae",
   "metadata": {},
   "source": [
    "## Check Duplicates"
   ]
  },
  {
   "cell_type": "code",
   "execution_count": null,
   "id": "61cad954",
   "metadata": {},
   "outputs": [],
   "source": []
  },
  {
   "cell_type": "markdown",
   "id": "659845a1",
   "metadata": {},
   "source": [
    "### Keep only numeric columns in a dataframe  for statistical Analysis\n",
    "\n",
    "hint: (use function select_dtype)"
   ]
  },
  {
   "cell_type": "code",
   "execution_count": null,
   "id": "c61a4b1a",
   "metadata": {},
   "outputs": [],
   "source": []
  },
  {
   "cell_type": "markdown",
   "id": "38d7d351",
   "metadata": {},
   "source": [
    "### Summary statistics"
   ]
  },
  {
   "cell_type": "code",
   "execution_count": null,
   "id": "0c2e5d19",
   "metadata": {},
   "outputs": [],
   "source": []
  },
  {
   "cell_type": "markdown",
   "id": "9489642a",
   "metadata": {},
   "source": [
    "## Distribution"
   ]
  },
  {
   "cell_type": "code",
   "execution_count": null,
   "id": "02605dab",
   "metadata": {},
   "outputs": [],
   "source": []
  },
  {
   "cell_type": "markdown",
   "id": "f1028856",
   "metadata": {},
   "source": [
    "#### Normalized Distribution (Gaussian)"
   ]
  },
  {
   "cell_type": "code",
   "execution_count": null,
   "id": "07c8a2e4",
   "metadata": {},
   "outputs": [],
   "source": []
  },
  {
   "cell_type": "markdown",
   "id": "c4bf3e84",
   "metadata": {},
   "source": [
    "#### Skewed Distribution (negative and positive)\n"
   ]
  },
  {
   "cell_type": "code",
   "execution_count": null,
   "id": "69b16383",
   "metadata": {},
   "outputs": [],
   "source": []
  },
  {
   "cell_type": "markdown",
   "id": "87ccb37e",
   "metadata": {},
   "source": [
    "#### Outliers\n",
    "\n",
    "Plot Boxplot"
   ]
  },
  {
   "cell_type": "code",
   "execution_count": null,
   "id": "2a824719",
   "metadata": {},
   "outputs": [],
   "source": []
  },
  {
   "cell_type": "markdown",
   "id": "923823a6",
   "metadata": {},
   "source": [
    "### Calculate Z- Score"
   ]
  },
  {
   "cell_type": "code",
   "execution_count": null,
   "id": "82a794e5",
   "metadata": {},
   "outputs": [],
   "source": []
  },
  {
   "cell_type": "markdown",
   "id": "4a200c03",
   "metadata": {},
   "source": [
    "### Identify outliers using IQR"
   ]
  },
  {
   "cell_type": "code",
   "execution_count": null,
   "id": "968029ce",
   "metadata": {},
   "outputs": [],
   "source": []
  },
  {
   "cell_type": "markdown",
   "id": "5e747499",
   "metadata": {},
   "source": [
    "## Remove outliers"
   ]
  },
  {
   "cell_type": "markdown",
   "id": "bf50a283",
   "metadata": {},
   "source": [
    "If majority of the columns are skewed then remove outliers using **IQR Method**."
   ]
  },
  {
   "cell_type": "code",
   "execution_count": null,
   "id": "3d857231",
   "metadata": {},
   "outputs": [],
   "source": []
  },
  {
   "cell_type": "code",
   "execution_count": null,
   "id": "bbc73a74",
   "metadata": {},
   "outputs": [],
   "source": []
  },
  {
   "cell_type": "markdown",
   "id": "956210cb",
   "metadata": {},
   "source": [
    "### Normal Distribution Check for Standardization and Normalization"
   ]
  },
  {
   "cell_type": "code",
   "execution_count": null,
   "id": "6ea0f931",
   "metadata": {},
   "outputs": [],
   "source": []
  },
  {
   "cell_type": "code",
   "execution_count": null,
   "id": "4a206301",
   "metadata": {},
   "outputs": [],
   "source": []
  },
  {
   "cell_type": "markdown",
   "id": "45649702",
   "metadata": {},
   "source": [
    "### Standardization and Normalization"
   ]
  },
  {
   "cell_type": "markdown",
   "id": "5c19129a",
   "metadata": {},
   "source": [
    "Apply standardization and normalization on the columns"
   ]
  },
  {
   "cell_type": "code",
   "execution_count": null,
   "id": "4f02d0bb",
   "metadata": {},
   "outputs": [],
   "source": []
  },
  {
   "cell_type": "code",
   "execution_count": null,
   "id": "14965632",
   "metadata": {},
   "outputs": [],
   "source": []
  },
  {
   "cell_type": "markdown",
   "id": "a4dcd3bd",
   "metadata": {},
   "source": [
    "## Standardization"
   ]
  },
  {
   "cell_type": "code",
   "execution_count": null,
   "id": "266c6b80",
   "metadata": {},
   "outputs": [],
   "source": []
  },
  {
   "cell_type": "code",
   "execution_count": null,
   "id": "9ce0ca87",
   "metadata": {},
   "outputs": [],
   "source": []
  },
  {
   "cell_type": "markdown",
   "id": "6ddbc4d0",
   "metadata": {},
   "source": [
    "## Normalization"
   ]
  },
  {
   "cell_type": "code",
   "execution_count": null,
   "id": "1584879e",
   "metadata": {},
   "outputs": [],
   "source": []
  },
  {
   "cell_type": "code",
   "execution_count": null,
   "id": "01fd1da3",
   "metadata": {},
   "outputs": [],
   "source": []
  },
  {
   "cell_type": "markdown",
   "id": "842718e9",
   "metadata": {},
   "source": [
    "## Distribution check"
   ]
  },
  {
   "cell_type": "code",
   "execution_count": null,
   "id": "631298da",
   "metadata": {},
   "outputs": [],
   "source": []
  },
  {
   "cell_type": "markdown",
   "id": "dcf403fe",
   "metadata": {},
   "source": [
    "## The END!"
   ]
  },
  {
   "cell_type": "code",
   "execution_count": null,
   "id": "eb9ceb3d",
   "metadata": {},
   "outputs": [],
   "source": []
  }
 ],
 "metadata": {
  "kernelspec": {
   "display_name": "Python 3 (ipykernel)",
   "language": "python",
   "name": "python3"
  },
  "language_info": {
   "codemirror_mode": {
    "name": "ipython",
    "version": 3
   },
   "file_extension": ".py",
   "mimetype": "text/x-python",
   "name": "python",
   "nbconvert_exporter": "python",
   "pygments_lexer": "ipython3",
   "version": "3.11.5"
  }
 },
 "nbformat": 4,
 "nbformat_minor": 5
}
