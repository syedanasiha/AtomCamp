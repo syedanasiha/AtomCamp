{
  "cells": [
    {
      "cell_type": "markdown",
      "metadata": {
        "id": "view-in-github",
        "colab_type": "text"
      },
      "source": [
        "<a href=\"https://colab.research.google.com/github/syedanasiha/AtomCamp/blob/main/Session_01_Simple_Linear_Regression.ipynb\" target=\"_parent\"><img src=\"https://colab.research.google.com/assets/colab-badge.svg\" alt=\"Open In Colab\"/></a>"
      ]
    },
    {
      "cell_type": "markdown",
      "id": "b93ac2c7",
      "metadata": {
        "id": "b93ac2c7"
      },
      "source": [
        "## Objective:\n",
        "Develop a predictive model to estimate Student's Performance using linear regression."
      ]
    },
    {
      "cell_type": "markdown",
      "id": "41530fba",
      "metadata": {
        "id": "41530fba"
      },
      "source": [
        "### Description:\n",
        "\n",
        "#### Variables:\n",
        "\n",
        "- **Previous Scores:** The scores obtained by students in previous tests.\n",
        "\n",
        "#### Target Variable:\n",
        "\n",
        "- **Performance Index:** A measure of the overall performance of each student. The performance index represents the student's academic performance and has been rounded to the nearest integer. The index ranges from 10 to 100, with higher values indicating better performance.\n"
      ]
    },
    {
      "cell_type": "markdown",
      "id": "6e305e1f",
      "metadata": {
        "papermill": {
          "duration": 0.018308,
          "end_time": "2023-11-11T01:59:06.166225",
          "exception": false,
          "start_time": "2023-11-11T01:59:06.147917",
          "status": "completed"
        },
        "tags": [],
        "id": "6e305e1f"
      },
      "source": [
        "### Loading Libraries"
      ]
    },
    {
      "cell_type": "code",
      "execution_count": null,
      "id": "cac19690",
      "metadata": {
        "execution": {
          "iopub.execute_input": "2023-11-11T01:59:06.205257Z",
          "iopub.status.busy": "2023-11-11T01:59:06.204546Z",
          "iopub.status.idle": "2023-11-11T01:59:07.904993Z",
          "shell.execute_reply": "2023-11-11T01:59:07.903800Z"
        },
        "papermill": {
          "duration": 1.723673,
          "end_time": "2023-11-11T01:59:07.908113",
          "exception": false,
          "start_time": "2023-11-11T01:59:06.184440",
          "status": "completed"
        },
        "tags": [],
        "id": "cac19690"
      },
      "outputs": [],
      "source": [
        "import pandas as pd\n",
        "import numpy as np\n",
        "import matplotlib.pyplot as plt\n",
        "import seaborn as sns\n",
        "import warnings\n",
        "warnings.filterwarnings(\"ignore\")"
      ]
    },
    {
      "cell_type": "markdown",
      "id": "a113f878",
      "metadata": {
        "id": "a113f878"
      },
      "source": [
        "### Loading Data"
      ]
    },
    {
      "cell_type": "code",
      "execution_count": null,
      "id": "def05637",
      "metadata": {
        "execution": {
          "iopub.execute_input": "2023-11-11T01:59:07.947390Z",
          "iopub.status.busy": "2023-11-11T01:59:07.946310Z",
          "iopub.status.idle": "2023-11-11T01:59:07.979996Z",
          "shell.execute_reply": "2023-11-11T01:59:07.979144Z"
        },
        "papermill": {
          "duration": 0.05617,
          "end_time": "2023-11-11T01:59:07.982655",
          "exception": false,
          "start_time": "2023-11-11T01:59:07.926485",
          "status": "completed"
        },
        "tags": [],
        "id": "def05637"
      },
      "outputs": [],
      "source": [
        "data = pd.read_csv(\"Student_Performance.csv\")"
      ]
    },
    {
      "cell_type": "code",
      "execution_count": null,
      "id": "306e0c94",
      "metadata": {
        "id": "306e0c94",
        "outputId": "60e678e1-fa3d-4c3c-cfb1-7f3158a65df2"
      },
      "outputs": [
        {
          "data": {
            "text/plain": [
              "Index(['Hours Studied', 'Previous Scores', 'Extracurricular Activities',\n",
              "       'Sleep Hours', 'Sample Question Papers Practiced', 'Performance Index'],\n",
              "      dtype='object')"
            ]
          },
          "execution_count": 4,
          "metadata": {},
          "output_type": "execute_result"
        }
      ],
      "source": [
        "data.columns"
      ]
    },
    {
      "cell_type": "code",
      "execution_count": null,
      "id": "220b399a",
      "metadata": {
        "id": "220b399a"
      },
      "outputs": [],
      "source": [
        "data.drop(['Hours Studied', 'Extracurricular Activities','Sleep Hours', 'Sample Question Papers Practiced'],inplace=True,axis=1)"
      ]
    },
    {
      "cell_type": "markdown",
      "id": "05f7a6d3",
      "metadata": {
        "id": "05f7a6d3"
      },
      "source": [
        "### Explore the Data"
      ]
    },
    {
      "cell_type": "code",
      "execution_count": null,
      "id": "ad0570f0",
      "metadata": {
        "execution": {
          "iopub.execute_input": "2023-11-11T01:59:08.020476Z",
          "iopub.status.busy": "2023-11-11T01:59:08.020051Z",
          "iopub.status.idle": "2023-11-11T01:59:08.043135Z",
          "shell.execute_reply": "2023-11-11T01:59:08.042022Z"
        },
        "papermill": {
          "duration": 0.044959,
          "end_time": "2023-11-11T01:59:08.045548",
          "exception": false,
          "start_time": "2023-11-11T01:59:08.000589",
          "status": "completed"
        },
        "tags": [],
        "id": "ad0570f0",
        "outputId": "588dbdd6-4e04-4579-bb3a-07fd29af4304"
      },
      "outputs": [
        {
          "data": {
            "text/html": [
              "<div>\n",
              "<style scoped>\n",
              "    .dataframe tbody tr th:only-of-type {\n",
              "        vertical-align: middle;\n",
              "    }\n",
              "\n",
              "    .dataframe tbody tr th {\n",
              "        vertical-align: top;\n",
              "    }\n",
              "\n",
              "    .dataframe thead th {\n",
              "        text-align: right;\n",
              "    }\n",
              "</style>\n",
              "<table border=\"1\" class=\"dataframe\">\n",
              "  <thead>\n",
              "    <tr style=\"text-align: right;\">\n",
              "      <th></th>\n",
              "      <th>Previous Scores</th>\n",
              "      <th>Performance Index</th>\n",
              "    </tr>\n",
              "  </thead>\n",
              "  <tbody>\n",
              "    <tr>\n",
              "      <th>0</th>\n",
              "      <td>99</td>\n",
              "      <td>91.0</td>\n",
              "    </tr>\n",
              "    <tr>\n",
              "      <th>1</th>\n",
              "      <td>82</td>\n",
              "      <td>65.0</td>\n",
              "    </tr>\n",
              "    <tr>\n",
              "      <th>2</th>\n",
              "      <td>51</td>\n",
              "      <td>45.0</td>\n",
              "    </tr>\n",
              "    <tr>\n",
              "      <th>3</th>\n",
              "      <td>52</td>\n",
              "      <td>36.0</td>\n",
              "    </tr>\n",
              "    <tr>\n",
              "      <th>4</th>\n",
              "      <td>75</td>\n",
              "      <td>66.0</td>\n",
              "    </tr>\n",
              "  </tbody>\n",
              "</table>\n",
              "</div>"
            ],
            "text/plain": [
              "   Previous Scores  Performance Index\n",
              "0               99               91.0\n",
              "1               82               65.0\n",
              "2               51               45.0\n",
              "3               52               36.0\n",
              "4               75               66.0"
            ]
          },
          "execution_count": 6,
          "metadata": {},
          "output_type": "execute_result"
        }
      ],
      "source": [
        "data.head()"
      ]
    },
    {
      "cell_type": "markdown",
      "id": "aa0ab567",
      "metadata": {
        "id": "aa0ab567"
      },
      "source": [
        "### Correlation matrix"
      ]
    },
    {
      "cell_type": "code",
      "execution_count": null,
      "id": "2eafb678",
      "metadata": {
        "id": "2eafb678",
        "outputId": "944bb67b-f3db-482a-8d1a-186fc069e65f"
      },
      "outputs": [
        {
          "data": {
            "image/png": "[encoded data removed]",
            "text/plain": [
              "<Figure size 800x500 with 2 Axes>"
            ]
          },
          "metadata": {},
          "output_type": "display_data"
        }
      ],
      "source": [
        "correlation_matrix = data.corr()\n",
        "\n",
        "# Plotting the correlation matrix\n",
        "plt.figure(figsize=(8, 5))\n",
        "sns.heatmap(correlation_matrix, annot=True, cmap='coolwarm', fmt=\".2f\")\n",
        "plt.title('Correlation Matrix')\n",
        "plt.show()\n"
      ]
    },
    {
      "cell_type": "markdown",
      "id": "9ee36710",
      "metadata": {
        "id": "9ee36710"
      },
      "source": [
        "## Linear regression:\n",
        "\n",
        "Linear regression is a statistical method used to model the relationship between a dependent variable and one or more independent variables by fitting a linear equation to observed data. It is a fundamental technique in the field of machine learning, and statistics.\n",
        "\n",
        "In simple linear regression, there is one independent variable predicting the dependent variable, while in multiple linear regression, there are multiple independent variables. The goal of linear regression is to find the best-fitting line (or hyperplane in the case of multiple independent variables) that minimizes the difference between the observed values and the values predicted by the linear model.\n",
        "\n",
        "The equation for simple linear regression is typically represented as:\n",
        "\n",
        "\\[ y = mx + b \\]\n",
        "\n",
        "Where:\n",
        "- \\( y \\) is the dependent variable.\n",
        "- \\( x \\) is the independent variable.\n",
        "- \\( m \\) is the slope of the line.\n",
        "- \\( b \\) is the y-intercept.\n",
        "\n",
        "In multiple linear regression, the equation becomes:\n",
        "\n",
        "\\[ y = b_0 + b_1x_1 + b_2x_2 + ... + b_nx_n \\]\n",
        "\n",
        "Where:\n",
        "- \\( y \\) is the dependent variable.\n",
        "- \\( x_1, x_2, ..., x_n \\) are the independent variables.\n",
        "- \\( b_0, b_1, b_2, ..., b_n \\) are the coefficients representing the slopes of the respective independent variables, and \\( b_0 \\) is the y-intercept."
      ]
    },
    {
      "cell_type": "code",
      "execution_count": null,
      "id": "c7ba0e85",
      "metadata": {
        "id": "c7ba0e85",
        "outputId": "900cb4f2-c8b0-446b-b5ae-e1751816ce83"
      },
      "outputs": [
        {
          "data": {
            "text/html": [
              "<div>\n",
              "<style scoped>\n",
              "    .dataframe tbody tr th:only-of-type {\n",
              "        vertical-align: middle;\n",
              "    }\n",
              "\n",
              "    .dataframe tbody tr th {\n",
              "        vertical-align: top;\n",
              "    }\n",
              "\n",
              "    .dataframe thead th {\n",
              "        text-align: right;\n",
              "    }\n",
              "</style>\n",
              "<table border=\"1\" class=\"dataframe\">\n",
              "  <thead>\n",
              "    <tr style=\"text-align: right;\">\n",
              "      <th></th>\n",
              "      <th>Previous Scores</th>\n",
              "      <th>Performance Index</th>\n",
              "    </tr>\n",
              "  </thead>\n",
              "  <tbody>\n",
              "    <tr>\n",
              "      <th>0</th>\n",
              "      <td>99</td>\n",
              "      <td>91.0</td>\n",
              "    </tr>\n",
              "    <tr>\n",
              "      <th>1</th>\n",
              "      <td>82</td>\n",
              "      <td>65.0</td>\n",
              "    </tr>\n",
              "    <tr>\n",
              "      <th>2</th>\n",
              "      <td>51</td>\n",
              "      <td>45.0</td>\n",
              "    </tr>\n",
              "    <tr>\n",
              "      <th>3</th>\n",
              "      <td>52</td>\n",
              "      <td>36.0</td>\n",
              "    </tr>\n",
              "    <tr>\n",
              "      <th>4</th>\n",
              "      <td>75</td>\n",
              "      <td>66.0</td>\n",
              "    </tr>\n",
              "  </tbody>\n",
              "</table>\n",
              "</div>"
            ],
            "text/plain": [
              "   Previous Scores  Performance Index\n",
              "0               99               91.0\n",
              "1               82               65.0\n",
              "2               51               45.0\n",
              "3               52               36.0\n",
              "4               75               66.0"
            ]
          },
          "execution_count": 9,
          "metadata": {},
          "output_type": "execute_result"
        }
      ],
      "source": [
        "data.head()"
      ]
    },
    {
      "cell_type": "markdown",
      "id": "0b3bb8d1",
      "metadata": {
        "id": "0b3bb8d1"
      },
      "source": [
        "#### Define Features and Target"
      ]
    },
    {
      "cell_type": "code",
      "execution_count": null,
      "id": "deaf0e92",
      "metadata": {
        "execution": {
          "iopub.execute_input": "2023-11-11T01:59:14.166084Z",
          "iopub.status.busy": "2023-11-11T01:59:14.165700Z",
          "iopub.status.idle": "2023-11-11T01:59:14.173264Z",
          "shell.execute_reply": "2023-11-11T01:59:14.172392Z"
        },
        "papermill": {
          "duration": 0.035394,
          "end_time": "2023-11-11T01:59:14.175312",
          "exception": false,
          "start_time": "2023-11-11T01:59:14.139918",
          "status": "completed"
        },
        "tags": [],
        "id": "deaf0e92"
      },
      "outputs": [],
      "source": [
        "X = data.drop(columns = \"Performance Index\")\n",
        "y = data[\"Performance Index\"]"
      ]
    },
    {
      "cell_type": "code",
      "execution_count": null,
      "id": "a4c739a3",
      "metadata": {
        "id": "a4c739a3",
        "outputId": "b03feac3-5822-4c90-d9cb-2ed25b4016ad"
      },
      "outputs": [
        {
          "data": {
            "text/html": [
              "<div>\n",
              "<style scoped>\n",
              "    .dataframe tbody tr th:only-of-type {\n",
              "        vertical-align: middle;\n",
              "    }\n",
              "\n",
              "    .dataframe tbody tr th {\n",
              "        vertical-align: top;\n",
              "    }\n",
              "\n",
              "    .dataframe thead th {\n",
              "        text-align: right;\n",
              "    }\n",
              "</style>\n",
              "<table border=\"1\" class=\"dataframe\">\n",
              "  <thead>\n",
              "    <tr style=\"text-align: right;\">\n",
              "      <th></th>\n",
              "      <th>Previous Scores</th>\n",
              "    </tr>\n",
              "  </thead>\n",
              "  <tbody>\n",
              "    <tr>\n",
              "      <th>0</th>\n",
              "      <td>99</td>\n",
              "    </tr>\n",
              "    <tr>\n",
              "      <th>1</th>\n",
              "      <td>82</td>\n",
              "    </tr>\n",
              "  </tbody>\n",
              "</table>\n",
              "</div>"
            ],
            "text/plain": [
              "   Previous Scores\n",
              "0               99\n",
              "1               82"
            ]
          },
          "execution_count": 44,
          "metadata": {},
          "output_type": "execute_result"
        }
      ],
      "source": [
        "X.head(2)"
      ]
    },
    {
      "cell_type": "code",
      "execution_count": null,
      "id": "622dfbe4",
      "metadata": {
        "id": "622dfbe4",
        "outputId": "bdf3bc19-ef5c-466e-e13a-40941fdc4131"
      },
      "outputs": [
        {
          "data": {
            "text/plain": [
              "0    91.0\n",
              "1    65.0\n",
              "Name: Performance Index, dtype: float64"
            ]
          },
          "execution_count": 45,
          "metadata": {},
          "output_type": "execute_result"
        }
      ],
      "source": [
        "y.head(2)"
      ]
    },
    {
      "cell_type": "markdown",
      "id": "e02d723a",
      "metadata": {
        "id": "e02d723a"
      },
      "source": [
        "#### Split the dataset into training and testing sets.\n"
      ]
    },
    {
      "cell_type": "code",
      "execution_count": null,
      "id": "f963fbf4",
      "metadata": {
        "id": "f963fbf4"
      },
      "outputs": [],
      "source": [
        "from sklearn.model_selection import train_test_split\n",
        "\n",
        "X_train, X_test, y_train, y_test = train_test_split(X, y, test_size=0.2, random_state=42)"
      ]
    },
    {
      "cell_type": "code",
      "execution_count": null,
      "id": "a6e61ff3",
      "metadata": {
        "execution": {
          "iopub.execute_input": "2023-11-11T01:59:14.415240Z",
          "iopub.status.busy": "2023-11-11T01:59:14.414769Z",
          "iopub.status.idle": "2023-11-11T01:59:14.421005Z",
          "shell.execute_reply": "2023-11-11T01:59:14.420184Z"
        },
        "papermill": {
          "duration": 0.035789,
          "end_time": "2023-11-11T01:59:14.423074",
          "exception": false,
          "start_time": "2023-11-11T01:59:14.387285",
          "status": "completed"
        },
        "tags": [],
        "id": "a6e61ff3",
        "outputId": "fd815196-f132-4b9f-806b-49f3eadc8e32"
      },
      "outputs": [
        {
          "name": "stdout",
          "output_type": "stream",
          "text": [
            "x_train shape:  (8000, 1)\n",
            "y_train shape:  (8000,)\n",
            "x_test shape:  (2000, 1)\n",
            "y_test shape:  (2000,)\n"
          ]
        }
      ],
      "source": [
        "# see shape of splited data\n",
        "\n",
        "print(\"x_train shape: \", X_train.shape)\n",
        "print(\"y_train shape: \", y_train.shape)\n",
        "print(\"x_test shape: \", X_test.shape)\n",
        "print(\"y_test shape: \", y_test.shape)"
      ]
    },
    {
      "cell_type": "markdown",
      "id": "8054cae9",
      "metadata": {
        "id": "8054cae9"
      },
      "source": [
        "### Implement a linear regression model.\n"
      ]
    },
    {
      "cell_type": "code",
      "execution_count": null,
      "id": "5c5ff856",
      "metadata": {
        "execution": {
          "iopub.execute_input": "2023-11-11T01:59:14.526535Z",
          "iopub.status.busy": "2023-11-11T01:59:14.525777Z",
          "iopub.status.idle": "2023-11-11T01:59:14.530046Z",
          "shell.execute_reply": "2023-11-11T01:59:14.529274Z"
        },
        "papermill": {
          "duration": 0.033294,
          "end_time": "2023-11-11T01:59:14.532178",
          "exception": false,
          "start_time": "2023-11-11T01:59:14.498884",
          "status": "completed"
        },
        "tags": [],
        "id": "5c5ff856"
      },
      "outputs": [],
      "source": [
        "from sklearn.linear_model import LinearRegression\n",
        "\n",
        "model = LinearRegression()"
      ]
    },
    {
      "cell_type": "code",
      "execution_count": null,
      "id": "80c562b4",
      "metadata": {
        "execution": {
          "iopub.execute_input": "2023-11-11T01:59:14.585010Z",
          "iopub.status.busy": "2023-11-11T01:59:14.584278Z",
          "iopub.status.idle": "2023-11-11T01:59:14.617405Z",
          "shell.execute_reply": "2023-11-11T01:59:14.616129Z"
        },
        "papermill": {
          "duration": 0.062471,
          "end_time": "2023-11-11T01:59:14.620010",
          "exception": false,
          "start_time": "2023-11-11T01:59:14.557539",
          "status": "completed"
        },
        "tags": [],
        "id": "80c562b4",
        "outputId": "8f7ed1fd-ccbc-49a5-9c3b-e4804c4eac2f"
      },
      "outputs": [
        {
          "data": {
            "text/html": [
              "<style>#sk-container-id-2 {\n",
              "  /* Definition of color scheme common for light and dark mode */\n",
              "  --sklearn-color-text: black;\n",
              "  --sklearn-color-line: gray;\n",
              "  /* Definition of color scheme for unfitted estimators */\n",
              "  --sklearn-color-unfitted-level-0: #fff5e6;\n",
              "  --sklearn-color-unfitted-level-1: #f6e4d2;\n",
              "  --sklearn-color-unfitted-level-2: #ffe0b3;\n",
              "  --sklearn-color-unfitted-level-3: chocolate;\n",
              "  /* Definition of color scheme for fitted estimators */\n",
              "  --sklearn-color-fitted-level-0: #f0f8ff;\n",
              "  --sklearn-color-fitted-level-1: #d4ebff;\n",
              "  --sklearn-color-fitted-level-2: #b3dbfd;\n",
              "  --sklearn-color-fitted-level-3: cornflowerblue;\n",
              "\n",
              "  /* Specific color for light theme */\n",
              "  --sklearn-color-text-on-default-background: var(--sg-text-color, var(--theme-code-foreground, var(--jp-content-font-color1, black)));\n",
              "  --sklearn-color-background: var(--sg-background-color, var(--theme-background, var(--jp-layout-color0, white)));\n",
              "  --sklearn-color-border-box: var(--sg-text-color, var(--theme-code-foreground, var(--jp-content-font-color1, black)));\n",
              "  --sklearn-color-icon: #696969;\n",
              "\n",
              "  @media (prefers-color-scheme: dark) {\n",
              "    /* Redefinition of color scheme for dark theme */\n",
              "    --sklearn-color-text-on-default-background: var(--sg-text-color, var(--theme-code-foreground, var(--jp-content-font-color1, white)));\n",
              "    --sklearn-color-background: var(--sg-background-color, var(--theme-background, var(--jp-layout-color0, #111)));\n",
              "    --sklearn-color-border-box: var(--sg-text-color, var(--theme-code-foreground, var(--jp-content-font-color1, white)));\n",
              "    --sklearn-color-icon: #878787;\n",
              "  }\n",
              "}\n",
              "\n",
              "#sk-container-id-2 {\n",
              "  color: var(--sklearn-color-text);\n",
              "}\n",
              "\n",
              "#sk-container-id-2 pre {\n",
              "  padding: 0;\n",
              "}\n",
              "\n",
              "#sk-container-id-2 input.sk-hidden--visually {\n",
              "  border: 0;\n",
              "  clip: rect(1px 1px 1px 1px);\n",
              "  clip: rect(1px, 1px, 1px, 1px);\n",
              "  height: 1px;\n",
              "  margin: -1px;\n",
              "  overflow: hidden;\n",
              "  padding: 0;\n",
              "  position: absolute;\n",
              "  width: 1px;\n",
              "}\n",
              "\n",
              "#sk-container-id-2 div.sk-dashed-wrapped {\n",
              "  border: 1px dashed var(--sklearn-color-line);\n",
              "  margin: 0 0.4em 0.5em 0.4em;\n",
              "  box-sizing: border-box;\n",
              "  padding-bottom: 0.4em;\n",
              "  background-color: var(--sklearn-color-background);\n",
              "}\n",
              "\n",
              "#sk-container-id-2 div.sk-container {\n",
              "  /* jupyter's `normalize.less` sets `[hidden] { display: none; }`\n",
              "     but bootstrap.min.css set `[hidden] { display: none !important; }`\n",
              "     so we also need the `!important` here to be able to override the\n",
              "     default hidden behavior on the sphinx rendered scikit-learn.org.\n",
              "     See: https://github.com/scikit-learn/scikit-learn/issues/21755 */\n",
              "  display: inline-block !important;\n",
              "  position: relative;\n",
              "}\n",
              "\n",
              "#sk-container-id-2 div.sk-text-repr-fallback {\n",
              "  display: none;\n",
              "}\n",
              "\n",
              "div.sk-parallel-item,\n",
              "div.sk-serial,\n",
              "div.sk-item {\n",
              "  /* draw centered vertical line to link estimators */\n",
              "  background-image: linear-gradient(var(--sklearn-color-text-on-default-background), var(--sklearn-color-text-on-default-background));\n",
              "  background-size: 2px 100%;\n",
              "  background-repeat: no-repeat;\n",
              "  background-position: center center;\n",
              "}\n",
              "\n",
              "/* Parallel-specific style estimator block */\n",
              "\n",
              "#sk-container-id-2 div.sk-parallel-item::after {\n",
              "  content: \"\";\n",
              "  width: 100%;\n",
              "  border-bottom: 2px solid var(--sklearn-color-text-on-default-background);\n",
              "  flex-grow: 1;\n",
              "}\n",
              "\n",
              "#sk-container-id-2 div.sk-parallel {\n",
              "  display: flex;\n",
              "  align-items: stretch;\n",
              "  justify-content: center;\n",
              "  background-color: var(--sklearn-color-background);\n",
              "  position: relative;\n",
              "}\n",
              "\n",
              "#sk-container-id-2 div.sk-parallel-item {\n",
              "  display: flex;\n",
              "  flex-direction: column;\n",
              "}\n",
              "\n",
              "#sk-container-id-2 div.sk-parallel-item:first-child::after {\n",
              "  align-self: flex-end;\n",
              "  width: 50%;\n",
              "}\n",
              "\n",
              "#sk-container-id-2 div.sk-parallel-item:last-child::after {\n",
              "  align-self: flex-start;\n",
              "  width: 50%;\n",
              "}\n",
              "\n",
              "#sk-container-id-2 div.sk-parallel-item:only-child::after {\n",
              "  width: 0;\n",
              "}\n",
              "\n",
              "/* Serial-specific style estimator block */\n",
              "\n",
              "#sk-container-id-2 div.sk-serial {\n",
              "  display: flex;\n",
              "  flex-direction: column;\n",
              "  align-items: center;\n",
              "  background-color: var(--sklearn-color-background);\n",
              "  padding-right: 1em;\n",
              "  padding-left: 1em;\n",
              "}\n",
              "\n",
              "\n",
              "/* Toggleable style: style used for estimator/Pipeline/ColumnTransformer box that is\n",
              "clickable and can be expanded/collapsed.\n",
              "- Pipeline and ColumnTransformer use this feature and define the default style\n",
              "- Estimators will overwrite some part of the style using the `sk-estimator` class\n",
              "*/\n",
              "\n",
              "/* Pipeline and ColumnTransformer style (default) */\n",
              "\n",
              "#sk-container-id-2 div.sk-toggleable {\n",
              "  /* Default theme specific background. It is overwritten whether we have a\n",
              "  specific estimator or a Pipeline/ColumnTransformer */\n",
              "  background-color: var(--sklearn-color-background);\n",
              "}\n",
              "\n",
              "/* Toggleable label */\n",
              "#sk-container-id-2 label.sk-toggleable__label {\n",
              "  cursor: pointer;\n",
              "  display: block;\n",
              "  width: 100%;\n",
              "  margin-bottom: 0;\n",
              "  padding: 0.5em;\n",
              "  box-sizing: border-box;\n",
              "  text-align: center;\n",
              "}\n",
              "\n",
              "#sk-container-id-2 label.sk-toggleable__label-arrow:before {\n",
              "  /* Arrow on the left of the label */\n",
              "  content: \"▸\";\n",
              "  float: left;\n",
              "  margin-right: 0.25em;\n",
              "  color: var(--sklearn-color-icon);\n",
              "}\n",
              "\n",
              "#sk-container-id-2 label.sk-toggleable__label-arrow:hover:before {\n",
              "  color: var(--sklearn-color-text);\n",
              "}\n",
              "\n",
              "/* Toggleable content - dropdown */\n",
              "\n",
              "#sk-container-id-2 div.sk-toggleable__content {\n",
              "  max-height: 0;\n",
              "  max-width: 0;\n",
              "  overflow: hidden;\n",
              "  text-align: left;\n",
              "  /* unfitted */\n",
              "  background-color: var(--sklearn-color-unfitted-level-0);\n",
              "}\n",
              "\n",
              "#sk-container-id-2 div.sk-toggleable__content.fitted {\n",
              "  /* fitted */\n",
              "  background-color: var(--sklearn-color-fitted-level-0);\n",
              "}\n",
              "\n",
              "#sk-container-id-2 div.sk-toggleable__content pre {\n",
              "  margin: 0.2em;\n",
              "  border-radius: 0.25em;\n",
              "  color: var(--sklearn-color-text);\n",
              "  /* unfitted */\n",
              "  background-color: var(--sklearn-color-unfitted-level-0);\n",
              "}\n",
              "\n",
              "#sk-container-id-2 div.sk-toggleable__content.fitted pre {\n",
              "  /* unfitted */\n",
              "  background-color: var(--sklearn-color-fitted-level-0);\n",
              "}\n",
              "\n",
              "#sk-container-id-2 input.sk-toggleable__control:checked~div.sk-toggleable__content {\n",
              "  /* Expand drop-down */\n",
              "  max-height: 200px;\n",
              "  max-width: 100%;\n",
              "  overflow: auto;\n",
              "}\n",
              "\n",
              "#sk-container-id-2 input.sk-toggleable__control:checked~label.sk-toggleable__label-arrow:before {\n",
              "  content: \"▾\";\n",
              "}\n",
              "\n",
              "/* Pipeline/ColumnTransformer-specific style */\n",
              "\n",
              "#sk-container-id-2 div.sk-label input.sk-toggleable__control:checked~label.sk-toggleable__label {\n",
              "  color: var(--sklearn-color-text);\n",
              "  background-color: var(--sklearn-color-unfitted-level-2);\n",
              "}\n",
              "\n",
              "#sk-container-id-2 div.sk-label.fitted input.sk-toggleable__control:checked~label.sk-toggleable__label {\n",
              "  background-color: var(--sklearn-color-fitted-level-2);\n",
              "}\n",
              "\n",
              "/* Estimator-specific style */\n",
              "\n",
              "/* Colorize estimator box */\n",
              "#sk-container-id-2 div.sk-estimator input.sk-toggleable__control:checked~label.sk-toggleable__label {\n",
              "  /* unfitted */\n",
              "  background-color: var(--sklearn-color-unfitted-level-2);\n",
              "}\n",
              "\n",
              "#sk-container-id-2 div.sk-estimator.fitted input.sk-toggleable__control:checked~label.sk-toggleable__label {\n",
              "  /* fitted */\n",
              "  background-color: var(--sklearn-color-fitted-level-2);\n",
              "}\n",
              "\n",
              "#sk-container-id-2 div.sk-label label.sk-toggleable__label,\n",
              "#sk-container-id-2 div.sk-label label {\n",
              "  /* The background is the default theme color */\n",
              "  color: var(--sklearn-color-text-on-default-background);\n",
              "}\n",
              "\n",
              "/* On hover, darken the color of the background */\n",
              "#sk-container-id-2 div.sk-label:hover label.sk-toggleable__label {\n",
              "  color: var(--sklearn-color-text);\n",
              "  background-color: var(--sklearn-color-unfitted-level-2);\n",
              "}\n",
              "\n",
              "/* Label box, darken color on hover, fitted */\n",
              "#sk-container-id-2 div.sk-label.fitted:hover label.sk-toggleable__label.fitted {\n",
              "  color: var(--sklearn-color-text);\n",
              "  background-color: var(--sklearn-color-fitted-level-2);\n",
              "}\n",
              "\n",
              "/* Estimator label */\n",
              "\n",
              "#sk-container-id-2 div.sk-label label {\n",
              "  font-family: monospace;\n",
              "  font-weight: bold;\n",
              "  display: inline-block;\n",
              "  line-height: 1.2em;\n",
              "}\n",
              "\n",
              "#sk-container-id-2 div.sk-label-container {\n",
              "  text-align: center;\n",
              "}\n",
              "\n",
              "/* Estimator-specific */\n",
              "#sk-container-id-2 div.sk-estimator {\n",
              "  font-family: monospace;\n",
              "  border: 1px dotted var(--sklearn-color-border-box);\n",
              "  border-radius: 0.25em;\n",
              "  box-sizing: border-box;\n",
              "  margin-bottom: 0.5em;\n",
              "  /* unfitted */\n",
              "  background-color: var(--sklearn-color-unfitted-level-0);\n",
              "}\n",
              "\n",
              "#sk-container-id-2 div.sk-estimator.fitted {\n",
              "  /* fitted */\n",
              "  background-color: var(--sklearn-color-fitted-level-0);\n",
              "}\n",
              "\n",
              "/* on hover */\n",
              "#sk-container-id-2 div.sk-estimator:hover {\n",
              "  /* unfitted */\n",
              "  background-color: var(--sklearn-color-unfitted-level-2);\n",
              "}\n",
              "\n",
              "#sk-container-id-2 div.sk-estimator.fitted:hover {\n",
              "  /* fitted */\n",
              "  background-color: var(--sklearn-color-fitted-level-2);\n",
              "}\n",
              "\n",
              "/* Specification for estimator info (e.g. \"i\" and \"?\") */\n",
              "\n",
              "/* Common style for \"i\" and \"?\" */\n",
              "\n",
              ".sk-estimator-doc-link,\n",
              "a:link.sk-estimator-doc-link,\n",
              "a:visited.sk-estimator-doc-link {\n",
              "  float: right;\n",
              "  font-size: smaller;\n",
              "  line-height: 1em;\n",
              "  font-family: monospace;\n",
              "  background-color: var(--sklearn-color-background);\n",
              "  border-radius: 1em;\n",
              "  height: 1em;\n",
              "  width: 1em;\n",
              "  text-decoration: none !important;\n",
              "  margin-left: 1ex;\n",
              "  /* unfitted */\n",
              "  border: var(--sklearn-color-unfitted-level-1) 1pt solid;\n",
              "  color: var(--sklearn-color-unfitted-level-1);\n",
              "}\n",
              "\n",
              ".sk-estimator-doc-link.fitted,\n",
              "a:link.sk-estimator-doc-link.fitted,\n",
              "a:visited.sk-estimator-doc-link.fitted {\n",
              "  /* fitted */\n",
              "  border: var(--sklearn-color-fitted-level-1) 1pt solid;\n",
              "  color: var(--sklearn-color-fitted-level-1);\n",
              "}\n",
              "\n",
              "/* On hover */\n",
              "div.sk-estimator:hover .sk-estimator-doc-link:hover,\n",
              ".sk-estimator-doc-link:hover,\n",
              "div.sk-label-container:hover .sk-estimator-doc-link:hover,\n",
              ".sk-estimator-doc-link:hover {\n",
              "  /* unfitted */\n",
              "  background-color: var(--sklearn-color-unfitted-level-3);\n",
              "  color: var(--sklearn-color-background);\n",
              "  text-decoration: none;\n",
              "}\n",
              "\n",
              "div.sk-estimator.fitted:hover .sk-estimator-doc-link.fitted:hover,\n",
              ".sk-estimator-doc-link.fitted:hover,\n",
              "div.sk-label-container:hover .sk-estimator-doc-link.fitted:hover,\n",
              ".sk-estimator-doc-link.fitted:hover {\n",
              "  /* fitted */\n",
              "  background-color: var(--sklearn-color-fitted-level-3);\n",
              "  color: var(--sklearn-color-background);\n",
              "  text-decoration: none;\n",
              "}\n",
              "\n",
              "/* Span, style for the box shown on hovering the info icon */\n",
              ".sk-estimator-doc-link span {\n",
              "  display: none;\n",
              "  z-index: 9999;\n",
              "  position: relative;\n",
              "  font-weight: normal;\n",
              "  right: .2ex;\n",
              "  padding: .5ex;\n",
              "  margin: .5ex;\n",
              "  width: min-content;\n",
              "  min-width: 20ex;\n",
              "  max-width: 50ex;\n",
              "  color: var(--sklearn-color-text);\n",
              "  box-shadow: 2pt 2pt 4pt #999;\n",
              "  /* unfitted */\n",
              "  background: var(--sklearn-color-unfitted-level-0);\n",
              "  border: .5pt solid var(--sklearn-color-unfitted-level-3);\n",
              "}\n",
              "\n",
              ".sk-estimator-doc-link.fitted span {\n",
              "  /* fitted */\n",
              "  background: var(--sklearn-color-fitted-level-0);\n",
              "  border: var(--sklearn-color-fitted-level-3);\n",
              "}\n",
              "\n",
              ".sk-estimator-doc-link:hover span {\n",
              "  display: block;\n",
              "}\n",
              "\n",
              "/* \"?\"-specific style due to the `<a>` HTML tag */\n",
              "\n",
              "#sk-container-id-2 a.estimator_doc_link {\n",
              "  float: right;\n",
              "  font-size: 1rem;\n",
              "  line-height: 1em;\n",
              "  font-family: monospace;\n",
              "  background-color: var(--sklearn-color-background);\n",
              "  border-radius: 1rem;\n",
              "  height: 1rem;\n",
              "  width: 1rem;\n",
              "  text-decoration: none;\n",
              "  /* unfitted */\n",
              "  color: var(--sklearn-color-unfitted-level-1);\n",
              "  border: var(--sklearn-color-unfitted-level-1) 1pt solid;\n",
              "}\n",
              "\n",
              "#sk-container-id-2 a.estimator_doc_link.fitted {\n",
              "  /* fitted */\n",
              "  border: var(--sklearn-color-fitted-level-1) 1pt solid;\n",
              "  color: var(--sklearn-color-fitted-level-1);\n",
              "}\n",
              "\n",
              "/* On hover */\n",
              "#sk-container-id-2 a.estimator_doc_link:hover {\n",
              "  /* unfitted */\n",
              "  background-color: var(--sklearn-color-unfitted-level-3);\n",
              "  color: var(--sklearn-color-background);\n",
              "  text-decoration: none;\n",
              "}\n",
              "\n",
              "#sk-container-id-2 a.estimator_doc_link.fitted:hover {\n",
              "  /* fitted */\n",
              "  background-color: var(--sklearn-color-fitted-level-3);\n",
              "}\n",
              "</style><div id=\"sk-container-id-2\" class=\"sk-top-container\"><div class=\"sk-text-repr-fallback\"><pre>LinearRegression()</pre><b>In a Jupyter environment, please rerun this cell to show the HTML representation or trust the notebook. <br />On GitHub, the HTML representation is unable to render, please try loading this page with nbviewer.org.</b></div><div class=\"sk-container\" hidden><div class=\"sk-item\"><div class=\"sk-estimator fitted sk-toggleable\"><input class=\"sk-toggleable__control sk-hidden--visually\" id=\"sk-estimator-id-2\" type=\"checkbox\" checked><label for=\"sk-estimator-id-2\" class=\"sk-toggleable__label fitted sk-toggleable__label-arrow fitted\">&nbsp;&nbsp;LinearRegression<a class=\"sk-estimator-doc-link fitted\" rel=\"noreferrer\" target=\"_blank\" href=\"https://scikit-learn.org/1.4/modules/generated/sklearn.linear_model.LinearRegression.html\">?<span>Documentation for LinearRegression</span></a><span class=\"sk-estimator-doc-link fitted\">i<span>Fitted</span></span></label><div class=\"sk-toggleable__content fitted\"><pre>LinearRegression()</pre></div> </div></div></div></div>"
            ],
            "text/plain": [
              "LinearRegression()"
            ]
          },
          "execution_count": 49,
          "metadata": {},
          "output_type": "execute_result"
        }
      ],
      "source": [
        "# fit model\n",
        "\n",
        "model.fit(X_train,y_train)"
      ]
    },
    {
      "cell_type": "markdown",
      "id": "6908c818",
      "metadata": {
        "id": "6908c818"
      },
      "source": [
        "#### Make predictions on the test set\n"
      ]
    },
    {
      "cell_type": "code",
      "execution_count": null,
      "id": "465be5f2",
      "metadata": {
        "id": "465be5f2"
      },
      "outputs": [],
      "source": [
        "y_pred = model.predict(X_test)"
      ]
    },
    {
      "cell_type": "code",
      "execution_count": null,
      "id": "158d5540",
      "metadata": {
        "id": "158d5540",
        "outputId": "e865cb60-7306-46c9-a1c4-5cc1deea5cc3"
      },
      "outputs": [
        {
          "data": {
            "text/plain": [
              "2000"
            ]
          },
          "execution_count": 51,
          "metadata": {},
          "output_type": "execute_result"
        }
      ],
      "source": [
        "len(y_pred)"
      ]
    },
    {
      "cell_type": "code",
      "execution_count": null,
      "id": "920f4495",
      "metadata": {
        "id": "920f4495",
        "outputId": "e52110f9-496b-4b19-b069-5b16c86037cb"
      },
      "outputs": [
        {
          "data": {
            "text/plain": [
              "2000"
            ]
          },
          "execution_count": 52,
          "metadata": {},
          "output_type": "execute_result"
        }
      ],
      "source": [
        "y_test.count()"
      ]
    },
    {
      "cell_type": "code",
      "execution_count": null,
      "id": "762b36ad",
      "metadata": {
        "execution": {
          "iopub.execute_input": "2023-11-11T01:59:14.971894Z",
          "iopub.status.busy": "2023-11-11T01:59:14.971157Z",
          "iopub.status.idle": "2023-11-11T01:59:14.988276Z",
          "shell.execute_reply": "2023-11-11T01:59:14.987450Z"
        },
        "papermill": {
          "duration": 0.074599,
          "end_time": "2023-11-11T01:59:14.990369",
          "exception": false,
          "start_time": "2023-11-11T01:59:14.915770",
          "status": "completed"
        },
        "tags": [],
        "id": "762b36ad",
        "outputId": "e8ec7be0-c741-4d56-bac5-f5831a9c9431"
      },
      "outputs": [
        {
          "data": {
            "text/html": [
              "<div>\n",
              "<style scoped>\n",
              "    .dataframe tbody tr th:only-of-type {\n",
              "        vertical-align: middle;\n",
              "    }\n",
              "\n",
              "    .dataframe tbody tr th {\n",
              "        vertical-align: top;\n",
              "    }\n",
              "\n",
              "    .dataframe thead th {\n",
              "        text-align: right;\n",
              "    }\n",
              "</style>\n",
              "<table border=\"1\" class=\"dataframe\">\n",
              "  <thead>\n",
              "    <tr style=\"text-align: right;\">\n",
              "      <th></th>\n",
              "      <th>Actual Performance</th>\n",
              "      <th>Predicted Performance</th>\n",
              "    </tr>\n",
              "  </thead>\n",
              "  <tbody>\n",
              "    <tr>\n",
              "      <th>6252</th>\n",
              "      <td>51.0</td>\n",
              "      <td>54.773742</td>\n",
              "    </tr>\n",
              "    <tr>\n",
              "      <th>4684</th>\n",
              "      <td>20.0</td>\n",
              "      <td>31.481016</td>\n",
              "    </tr>\n",
              "    <tr>\n",
              "      <th>1731</th>\n",
              "      <td>46.0</td>\n",
              "      <td>41.608288</td>\n",
              "    </tr>\n",
              "    <tr>\n",
              "      <th>4742</th>\n",
              "      <td>28.0</td>\n",
              "      <td>27.430107</td>\n",
              "    </tr>\n",
              "    <tr>\n",
              "      <th>4521</th>\n",
              "      <td>41.0</td>\n",
              "      <td>38.570107</td>\n",
              "    </tr>\n",
              "    <tr>\n",
              "      <th>...</th>\n",
              "      <td>...</td>\n",
              "      <td>...</td>\n",
              "    </tr>\n",
              "    <tr>\n",
              "      <th>6412</th>\n",
              "      <td>45.0</td>\n",
              "      <td>55.786469</td>\n",
              "    </tr>\n",
              "    <tr>\n",
              "      <th>8285</th>\n",
              "      <td>66.0</td>\n",
              "      <td>64.901014</td>\n",
              "    </tr>\n",
              "    <tr>\n",
              "      <th>7853</th>\n",
              "      <td>16.0</td>\n",
              "      <td>25.404653</td>\n",
              "    </tr>\n",
              "    <tr>\n",
              "      <th>1095</th>\n",
              "      <td>65.0</td>\n",
              "      <td>68.951923</td>\n",
              "    </tr>\n",
              "    <tr>\n",
              "      <th>6929</th>\n",
              "      <td>47.0</td>\n",
              "      <td>45.659197</td>\n",
              "    </tr>\n",
              "  </tbody>\n",
              "</table>\n",
              "<p>2000 rows × 2 columns</p>\n",
              "</div>"
            ],
            "text/plain": [
              "      Actual Performance  Predicted Performance\n",
              "6252                51.0              54.773742\n",
              "4684                20.0              31.481016\n",
              "1731                46.0              41.608288\n",
              "4742                28.0              27.430107\n",
              "4521                41.0              38.570107\n",
              "...                  ...                    ...\n",
              "6412                45.0              55.786469\n",
              "8285                66.0              64.901014\n",
              "7853                16.0              25.404653\n",
              "1095                65.0              68.951923\n",
              "6929                47.0              45.659197\n",
              "\n",
              "[2000 rows x 2 columns]"
            ]
          },
          "execution_count": 53,
          "metadata": {},
          "output_type": "execute_result"
        }
      ],
      "source": [
        "# Actual Values vs Predicted Values\n",
        "\n",
        "pd.DataFrame({\"Actual Performance\" : y_test, \"Predicted Performance\" : y_pred})"
      ]
    },
    {
      "cell_type": "code",
      "execution_count": null,
      "id": "37aa5c63",
      "metadata": {
        "id": "37aa5c63"
      },
      "outputs": [],
      "source": [
        "# import libraries to model\n",
        "from sklearn.metrics import mean_absolute_error,r2_score, mean_squared_error"
      ]
    },
    {
      "cell_type": "code",
      "execution_count": null,
      "id": "adf9599d",
      "metadata": {
        "scrolled": false,
        "id": "adf9599d",
        "outputId": "38737cb2-3761-43c2-ad9e-8d79997271bd"
      },
      "outputs": [
        {
          "name": "stdout",
          "output_type": "stream",
          "text": [
            "R-squared Error:  0.8409297694265205\n",
            "Mean Squared Error:  58.94905984921965\n",
            "Mean Absolute Error:  6.557486173405252\n"
          ]
        }
      ],
      "source": [
        "r2 = r2_score(y_test, y_pred)\n",
        "mse = mean_squared_error(y_test, y_pred)\n",
        "mae = mean_absolute_error(y_test, y_pred)\n",
        "\n",
        "print(\"R-squared Error: \",r2)\n",
        "print(\"Mean Squared Error: \",mse)\n",
        "print(\"Mean Absolute Error: \",mae)"
      ]
    },
    {
      "cell_type": "code",
      "execution_count": null,
      "id": "8202060d",
      "metadata": {
        "id": "8202060d",
        "outputId": "e26a49f7-5521-473c-a270-e943209b2bc1"
      },
      "outputs": [
        {
          "name": "stdout",
          "output_type": "stream",
          "text": [
            "R-squared Error:  84.093 %\n"
          ]
        }
      ],
      "source": [
        "# R-squared in percentage\n",
        "print(\"R-squared Error: \",round(r2*100,3),'%')"
      ]
    },
    {
      "cell_type": "markdown",
      "id": "78b466e6",
      "metadata": {
        "papermill": {
          "duration": 0.02454,
          "end_time": "2023-11-11T01:59:14.669943",
          "exception": false,
          "start_time": "2023-11-11T01:59:14.645403",
          "status": "completed"
        },
        "tags": [],
        "id": "78b466e6"
      },
      "source": [
        "#### Training vs Testing Accuracy"
      ]
    },
    {
      "cell_type": "code",
      "execution_count": null,
      "id": "b2e19209",
      "metadata": {
        "execution": {
          "iopub.execute_input": "2023-11-11T01:59:14.721450Z",
          "iopub.status.busy": "2023-11-11T01:59:14.721015Z",
          "iopub.status.idle": "2023-11-11T01:59:14.737008Z",
          "shell.execute_reply": "2023-11-11T01:59:14.735636Z"
        },
        "papermill": {
          "duration": 0.045996,
          "end_time": "2023-11-11T01:59:14.740723",
          "exception": false,
          "start_time": "2023-11-11T01:59:14.694727",
          "status": "completed"
        },
        "tags": [],
        "id": "b2e19209",
        "outputId": "1d2bb9bb-00d4-42a0-a5e0-1af7d45267d0"
      },
      "outputs": [
        {
          "data": {
            "text/plain": [
              "0.8367093435629368"
            ]
          },
          "execution_count": 57,
          "metadata": {},
          "output_type": "execute_result"
        }
      ],
      "source": [
        "# Calculate the score of the model on the training data\n",
        "\n",
        "model.score(X_train, y_train)"
      ]
    },
    {
      "cell_type": "code",
      "execution_count": null,
      "id": "7918ba84",
      "metadata": {
        "id": "7918ba84",
        "outputId": "0bf5198d-6f0d-4e26-b454-39b12464897f"
      },
      "outputs": [
        {
          "data": {
            "text/plain": [
              "0.8409297694265205"
            ]
          },
          "execution_count": 58,
          "metadata": {},
          "output_type": "execute_result"
        }
      ],
      "source": [
        "model.score(X_test, y_test)"
      ]
    },
    {
      "cell_type": "code",
      "execution_count": null,
      "id": "0d3c9426",
      "metadata": {
        "execution": {
          "iopub.execute_input": "2023-11-11T01:59:15.044254Z",
          "iopub.status.busy": "2023-11-11T01:59:15.043451Z",
          "iopub.status.idle": "2023-11-11T01:59:15.300392Z",
          "shell.execute_reply": "2023-11-11T01:59:15.299234Z"
        },
        "papermill": {
          "duration": 0.286496,
          "end_time": "2023-11-11T01:59:15.302756",
          "exception": false,
          "start_time": "2023-11-11T01:59:15.016260",
          "status": "completed"
        },
        "tags": [],
        "id": "0d3c9426",
        "outputId": "a139451f-9a56-4490-92da-a0afd900b58c"
      },
      "outputs": [
        {
          "data": {
            "image/png": "[encoded data removed]",
            "text/plain": [
              "<Figure size 640x480 with 1 Axes>"
            ]
          },
          "metadata": {},
          "output_type": "display_data"
        }
      ],
      "source": [
        "# Create scatter plot to see distribution\n",
        "\n",
        "plt.scatter(X_test, y_test,c=\"skyblue\")\n",
        "plt.scatter(X_test, y_pred,c=\"red\")\n",
        "\n",
        "plt.show()"
      ]
    },
    {
      "cell_type": "code",
      "execution_count": null,
      "id": "c7d5f11c",
      "metadata": {
        "id": "c7d5f11c",
        "outputId": "8135b4a7-f6a5-44d2-f48c-5188243594ca"
      },
      "outputs": [
        {
          "data": {
            "text/plain": [
              "<Axes: xlabel='Performance Index', ylabel='Density'>"
            ]
          },
          "execution_count": 60,
          "metadata": {},
          "output_type": "execute_result"
        },
        {
          "data": {
            "image/png": "[encoded data removed]",
            "text/plain": [
              "<Figure size 640x480 with 1 Axes>"
            ]
          },
          "metadata": {},
          "output_type": "display_data"
        }
      ],
      "source": [
        "import seaborn as sns\n",
        "\n",
        "ax1 = sns.distplot(y_test, hist=False, color=\"r\", label=\"Actual Value\")\n",
        "sns.distplot(y_pred, hist=False, color=\"b\", label=\"Fitted Values\" , ax=ax1)"
      ]
    },
    {
      "cell_type": "markdown",
      "id": "331b5ebf",
      "metadata": {
        "id": "331b5ebf"
      },
      "source": [
        "### Model Interpretation:\n",
        "1. Find coefficients of the linear regression model.\n"
      ]
    },
    {
      "cell_type": "code",
      "execution_count": null,
      "id": "af16bcdd",
      "metadata": {
        "execution": {
          "iopub.execute_input": "2023-11-11T01:59:15.486340Z",
          "iopub.status.busy": "2023-11-11T01:59:15.485543Z",
          "iopub.status.idle": "2023-11-11T01:59:15.492835Z",
          "shell.execute_reply": "2023-11-11T01:59:15.491811Z"
        },
        "papermill": {
          "duration": 0.037954,
          "end_time": "2023-11-11T01:59:15.495104",
          "exception": false,
          "start_time": "2023-11-11T01:59:15.457150",
          "status": "completed"
        },
        "tags": [],
        "id": "af16bcdd",
        "outputId": "12a3b40e-fed4-4c86-bd40-f4db8fdd3543"
      },
      "outputs": [
        {
          "data": {
            "text/plain": [
              "array([1.0127272])"
            ]
          },
          "execution_count": 61,
          "metadata": {},
          "output_type": "execute_result"
        }
      ],
      "source": [
        "model.coef_"
      ]
    },
    {
      "cell_type": "code",
      "execution_count": null,
      "id": "6916191b",
      "metadata": {
        "id": "6916191b",
        "outputId": "f286b91f-a1b9-4cdd-a3a6-47781a8aec84"
      },
      "outputs": [
        {
          "data": {
            "text/html": [
              "<div>\n",
              "<style scoped>\n",
              "    .dataframe tbody tr th:only-of-type {\n",
              "        vertical-align: middle;\n",
              "    }\n",
              "\n",
              "    .dataframe tbody tr th {\n",
              "        vertical-align: top;\n",
              "    }\n",
              "\n",
              "    .dataframe thead th {\n",
              "        text-align: right;\n",
              "    }\n",
              "</style>\n",
              "<table border=\"1\" class=\"dataframe\">\n",
              "  <thead>\n",
              "    <tr style=\"text-align: right;\">\n",
              "      <th></th>\n",
              "      <th>Coefficient</th>\n",
              "    </tr>\n",
              "  </thead>\n",
              "  <tbody>\n",
              "    <tr>\n",
              "      <th>Previous Scores</th>\n",
              "      <td>1.012727</td>\n",
              "    </tr>\n",
              "  </tbody>\n",
              "</table>\n",
              "</div>"
            ],
            "text/plain": [
              "                 Coefficient\n",
              "Previous Scores     1.012727"
            ]
          },
          "execution_count": 62,
          "metadata": {},
          "output_type": "execute_result"
        }
      ],
      "source": [
        "coefficients = pd.DataFrame(model.coef_, X.columns, columns=['Coefficient'])\n",
        "\n",
        "coefficients"
      ]
    },
    {
      "cell_type": "markdown",
      "id": "bf3e1ed8",
      "metadata": {
        "id": "bf3e1ed8"
      },
      "source": [
        "2. Find the intercept"
      ]
    },
    {
      "cell_type": "code",
      "execution_count": null,
      "id": "2a53e6f7",
      "metadata": {
        "execution": {
          "iopub.execute_input": "2023-11-11T01:59:15.551658Z",
          "iopub.status.busy": "2023-11-11T01:59:15.550998Z",
          "iopub.status.idle": "2023-11-11T01:59:15.557773Z",
          "shell.execute_reply": "2023-11-11T01:59:15.556585Z"
        },
        "papermill": {
          "duration": 0.037801,
          "end_time": "2023-11-11T01:59:15.559898",
          "exception": false,
          "start_time": "2023-11-11T01:59:15.522097",
          "status": "completed"
        },
        "tags": [],
        "id": "2a53e6f7",
        "outputId": "e1d92a5b-473e-4fb0-9f3d-fda9f5688f0c"
      },
      "outputs": [
        {
          "data": {
            "text/plain": [
              "-15.104435146091426"
            ]
          },
          "execution_count": 70,
          "metadata": {},
          "output_type": "execute_result"
        }
      ],
      "source": [
        "# see y intercept\n",
        "\n",
        "model.intercept_"
      ]
    },
    {
      "cell_type": "code",
      "execution_count": null,
      "id": "9b9f75b1",
      "metadata": {
        "id": "9b9f75b1",
        "outputId": "4b4dbb32-cd49-4c9e-9e57-85cf75e06876"
      },
      "outputs": [
        {
          "data": {
            "text/plain": [
              "76.04099485390856"
            ]
          },
          "execution_count": 71,
          "metadata": {},
          "output_type": "execute_result"
        }
      ],
      "source": [
        "(1.012727*90)-15.104435146091426"
      ]
    },
    {
      "cell_type": "code",
      "execution_count": null,
      "id": "57898006",
      "metadata": {
        "id": "57898006",
        "outputId": "6f88df6f-216f-487f-f7f0-81ed0e15a9a5"
      },
      "outputs": [
        {
          "data": {
            "text/plain": [
              "array([76.04101312])"
            ]
          },
          "execution_count": 72,
          "metadata": {},
          "output_type": "execute_result"
        }
      ],
      "source": [
        "model.predict([[90]])"
      ]
    },
    {
      "cell_type": "code",
      "execution_count": null,
      "id": "2659c1bd",
      "metadata": {
        "id": "2659c1bd"
      },
      "outputs": [],
      "source": []
    }
  ],
  "metadata": {
    "kernelspec": {
      "display_name": "Python 3 (ipykernel)",
      "language": "python",
      "name": "python3"
    },
    "language_info": {
      "codemirror_mode": {
        "name": "ipython",
        "version": 3
      },
      "file_extension": ".py",
      "mimetype": "text/x-python",
      "name": "python",
      "nbconvert_exporter": "python",
      "pygments_lexer": "ipython3",
      "version": "3.11.5"
    },
    "papermill": {
      "default_parameters": {},
      "duration": 13.578078,
      "end_time": "2023-11-11T01:59:16.319652",
      "environment_variables": {},
      "exception": null,
      "input_path": "__notebook__.ipynb",
      "output_path": "__notebook__.ipynb",
      "parameters": {},
      "start_time": "2023-11-11T01:59:02.741574",
      "version": "2.4.0"
    },
    "colab": {
      "provenance": [],
      "include_colab_link": true
    }
  },
  "nbformat": 4,
  "nbformat_minor": 5
}